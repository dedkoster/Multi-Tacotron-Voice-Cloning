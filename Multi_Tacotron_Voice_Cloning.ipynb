{
 "cells": [
  {
   "cell_type": "markdown",
   "metadata": {
    "colab_type": "text",
    "id": "6yk3PMfBuZhS"
   },
   "source": [
    "Make sure GPU is enabled\n",
    "Runtime -> Change Runtime Type -> Hardware Accelerator -> GPU"
   ]
  },
  {
   "cell_type": "code",
   "execution_count": 0,
   "metadata": {
    "colab": {},
    "colab_type": "code",
    "id": "qhunyJSod_UT"
   },
   "outputs": [],
   "source": [
    "!git clone https://github.com/dedkoster/Multi-Tacotron-Voice-Cloning.git"
   ]
  },
  {
   "cell_type": "code",
   "execution_count": 0,
   "metadata": {
    "colab": {},
    "colab_type": "code",
    "id": "pE6btDZWeFV0"
   },
   "outputs": [],
   "source": [
    "cd Multi-Tacotron-Voice-Cloning/"
   ]
  },
  {
   "cell_type": "code",
   "execution_count": null,
   "metadata": {
    "colab": {},
    "colab_type": "code",
    "id": "0AVd9vLKeKm6"
   },
   "outputs": [],
   "source": [
    "!pip install -r requirements.txt"
   ]
  },
  {
   "cell_type": "code",
   "execution_count": 0,
   "metadata": {
    "colab": {},
    "colab_type": "code",
    "id": "2920fqapzRoz"
   },
   "outputs": [],
   "source": [
    "!apt-get install libportaudio2"
   ]
  },
  {
   "cell_type": "code",
   "execution_count": 0,
   "metadata": {
    "colab": {},
    "colab_type": "code",
    "id": "VuwgOQlPeN8a"
   },
   "outputs": [],
   "source": [
    "!gdown https://drive.google.com/uc?id=1aQBmpflbX_ePUdXTSNE4CfEL9hdG2-O8"
   ]
  },
  {
   "cell_type": "code",
   "execution_count": 0,
   "metadata": {
    "colab": {},
    "colab_type": "code",
    "id": "vKLpYfRkfyjX"
   },
   "outputs": [],
   "source": [
    "!unzip pretrained.zip"
   ]
  },
  {
   "cell_type": "code",
   "execution_count": null,
   "metadata": {},
   "outputs": [],
   "source": [
    "!python get_speak_embed.py -p \"for_bot.wav\""
   ]
  },
  {
   "cell_type": "code",
   "execution_count": 0,
   "metadata": {
    "colab": {},
    "colab_type": "code",
    "id": "YOiGYfpAf2qR"
   },
   "outputs": [],
   "source": [
    "!python generate_speech.py -t \"Hello my friends. Я многоязычный синтез построенный на tacotron. Шла саша по шоссе и сосала сушку\" --no_sound"
   ]
  },
  {
   "cell_type": "code",
   "execution_count": 0,
   "metadata": {
    "colab": {},
    "colab_type": "code",
    "id": "PyLdbUfks2lv"
   },
   "outputs": [],
   "source": [
    "import IPython.display as ipd\n",
    "print(\"original(оригинал)\")\n",
    "ipd.display(ipd.Audio('for_bot.wav'))#filepath to original voices (Путь до оригинального файла)\n",
    "print(\"cloned(клонированный)\")\n",
    "ipd.display(ipd.Audio('demo_output_00.wav'))#filepath to synthesized voices (Путь до синтезированного файла)"
   ]
  }
 ],
 "metadata": {
  "accelerator": "GPU",
  "colab": {
   "collapsed_sections": [],
   "name": "Multi-Tacotron-Voice-Cloning.ipynb",
   "provenance": [],
   "version": "0.3.2"
  },
  "kernelspec": {
   "display_name": "Python 3",
   "language": "python",
   "name": "python3"
  },
  "language_info": {
   "codemirror_mode": {
    "name": "ipython",
    "version": 3
   },
   "file_extension": ".py",
   "mimetype": "text/x-python",
   "name": "python",
   "nbconvert_exporter": "python",
   "pygments_lexer": "ipython3",
   "version": "3.7.4"
  }
 },
 "nbformat": 4,
 "nbformat_minor": 1
}